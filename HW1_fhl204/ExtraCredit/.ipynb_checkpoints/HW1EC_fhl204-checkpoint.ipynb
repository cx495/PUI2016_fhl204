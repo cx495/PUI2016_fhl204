{
 "cells": [
  {
   "cell_type": "code",
   "execution_count": 1,
   "metadata": {
    "collapsed": true
   },
   "outputs": [],
   "source": [
    "import os\n",
    "import sys\n",
    "import numpy as np"
   ]
  },
  {
   "cell_type": "code",
   "execution_count": 8,
   "metadata": {
    "collapsed": true
   },
   "outputs": [],
   "source": [
    "np.random.seed(0)"
   ]
  },
  {
   "cell_type": "code",
   "execution_count": 18,
   "metadata": {
    "collapsed": false
   },
   "outputs": [],
   "source": [
    "ReprRand = np.random.randn(2,100)"
   ]
  },
  {
   "cell_type": "code",
   "execution_count": 71,
   "metadata": {
    "collapsed": false
   },
   "outputs": [
    {
     "name": "stdout",
     "output_type": "stream",
     "text": [
      "[[  8.18053303e-02   2.90760217e-01   1.07903000e+00   3.09611881e+00\n",
      "   -4.32237894e-01  -5.29788443e-01  -7.18524131e-01  -7.90990191e-02\n",
      "   -5.31814789e-01   3.01108048e-01  -2.38763399e+00  -6.01084465e-01\n",
      "   -6.29455851e-01   9.78969376e-01  -2.16520608e+00  -9.09185334e-01\n",
      "   -1.52461101e+00   1.65930850e+00  -1.16289814e+00   1.61475894e+00\n",
      "    2.27180131e+00  -1.55320007e+00  -2.05271562e+00  -4.09146896e-01\n",
      "   -1.08208195e+00   1.51531585e+00  -4.93048464e-01   8.51284016e-01\n",
      "   -1.17849533e+00   1.05695363e+00   1.60085465e-02  -3.07382457e-04\n",
      "   -1.47446700e+00  -1.28928010e+00  -1.29325775e+00   6.16419459e-01\n",
      "   -1.70433640e+00   2.67757751e-01   6.19119995e-01  -2.71576332e-01\n",
      "   -1.53427355e+00  -1.06185391e+00  -1.21372713e+00  -1.91049574e+00\n",
      "   -5.56297846e-01   2.00952190e+00   4.21947244e-01   2.80714328e-01\n",
      "    2.92955006e-01   9.25148215e-02  -7.40862769e-01  -1.27862190e+00\n",
      "    5.95316538e-01   1.18738779e+00   7.98580025e-01   1.14343134e+00\n",
      "    1.42021388e-01   3.70444345e-01   2.08303359e+00   8.55898799e-01\n",
      "   -1.08632197e+00  -6.32800188e-01  -1.09302590e+00  -7.15564608e-01\n",
      "    2.98942262e-01  -1.71494186e-01  -2.59602311e-01   1.02515447e+00\n",
      "    4.84042989e-01   5.42631919e-01  -3.17259412e-02  -5.92892846e-01\n",
      "    2.33656570e+00   8.11952679e-01  -3.55947834e-01   1.24867767e+00\n",
      "    3.16121026e-01   3.29525688e-01  -2.98651353e-01  -8.08388932e-01\n",
      "   -1.05820594e-01  -2.01289891e-01   1.89889522e-01   1.27446524e+00\n",
      "   -5.76342783e-01  -1.77863110e+00  -4.61972269e-01  -3.43275328e-02\n",
      "   -8.04154151e-02   8.96555559e-02  -2.37599392e-01  -6.51035314e-01\n",
      "    5.63443926e-01  -2.75645106e-01  -1.19192377e+00   1.06554358e-02\n",
      "    1.08457191e+00  -1.42421808e+00  -7.91567877e-01  -4.52856559e-01]\n",
      " [ -5.86725451e-01  -3.83409301e-01   1.31054169e+00  -1.17191351e+00\n",
      "   -1.86638341e+00  -4.04474261e-01  -1.05713397e+00   2.16247240e+00\n",
      "   -3.28343898e-01  -1.67112098e+00  -2.12878347e-01  -1.10125977e+00\n",
      "    1.24016209e+00   1.00190573e-01  -1.64130339e+00  -4.41234342e-01\n",
      "   -1.64174855e+00   5.81860863e-01   1.02991296e+00   2.21702339e+00\n",
      "   -7.25869381e-01   3.41178912e-01  -7.58841785e-02  -1.06831088e-01\n",
      "   -1.50486218e+00  -7.47637746e-01  -1.02529861e+00   1.29712771e+00\n",
      "    9.90747614e-01  -1.00294211e+00  -8.70300583e-01   1.21545110e+00\n",
      "    1.69573481e-01  -6.10053218e-01  -2.70112536e-01  -1.81591723e+00\n",
      "    7.44715636e-02   1.43208044e+00   8.31964227e-01  -3.54887338e-01\n",
      "   -4.73613413e-01   1.25131901e+00   7.54135314e-01  -7.96825355e-01\n",
      "   -1.13307603e+00  -4.85062424e-01   1.31518275e+00  -1.83395992e+00\n",
      "    1.26417550e+00   6.87419682e-01  -1.85844426e-01   2.45603147e-01\n",
      "    1.23784973e+00   3.06579710e-01   1.39309997e-01   8.18638752e-01\n",
      "    5.62159889e-01  -2.97163217e-01  -9.28024512e-01   5.60835340e-01\n",
      "   -5.15164011e-01   1.30926795e+00  -1.56458431e-01   1.01362984e-02\n",
      "   -1.14771601e-01  -3.30803002e-01   5.42661226e-01   1.04780412e+00\n",
      "   -7.58869000e-01   9.05809893e-01  -6.63847681e-01   2.71008200e-02\n",
      "   -5.99652949e-01   9.41542876e-01   3.31115201e-01  -6.85002421e-01\n",
      "   -1.69739677e+00   8.25228883e-01   5.44750508e-01  -5.34085954e-01\n",
      "   -1.03202284e+00  -1.92134816e+00  -3.23676357e-01  -1.12102272e+00\n",
      "   -2.07545905e+00   9.17559858e-01  -1.58294720e-01   3.55038259e-02\n",
      "   -1.85847973e+00   8.21151692e-01   5.85915720e-01   9.85481399e-01\n",
      "    1.03771941e+00   8.08751984e-01   5.53114042e-02  -1.10894921e+00\n",
      "    2.61727048e-01   7.74878399e-01  -1.31127669e+00  -2.85301757e-01]]\n"
     ]
    }
   ],
   "source": [
    "print ReprRand"
   ]
  },
  {
   "cell_type": "code",
   "execution_count": 21,
   "metadata": {
    "collapsed": false
   },
   "outputs": [
    {
     "data": {
      "text/plain": [
       "(2, 100)"
      ]
     },
     "execution_count": 21,
     "metadata": {},
     "output_type": "execute_result"
    }
   ],
   "source": [
    "ReprRand.shape"
   ]
  },
  {
   "cell_type": "code",
   "execution_count": 80,
   "metadata": {
    "collapsed": false
   },
   "outputs": [
    {
     "ename": "SyntaxError",
     "evalue": "can't assign to function call (<ipython-input-80-eee521cfc92a>, line 5)",
     "output_type": "error",
     "traceback": [
      "\u001b[1;36m  File \u001b[1;32m\"<ipython-input-80-eee521cfc92a>\"\u001b[1;36m, line \u001b[1;32m5\u001b[0m\n\u001b[1;33m    ReprRandAll(i) = ReprRand*(ReprRandAll+1)\u001b[0m\n\u001b[1;31mSyntaxError\u001b[0m\u001b[1;31m:\u001b[0m can't assign to function call\n"
     ]
    }
   ],
   "source": [
    "ReprRandAll = np.zeros((50, 2, 100))\n",
    "\n",
    "for i in range(50):\n",
    "    ReprRand = np.random.randn(2,100)\n",
    "    ReprRandAll(i) = ReprRand*(ReprRandAll+1)\n",
    "\n",
    "print ReprRandAll"
   ]
  },
  {
   "cell_type": "code",
   "execution_count": 47,
   "metadata": {
    "collapsed": false
   },
   "outputs": [
    {
     "data": {
      "text/plain": [
       "(50, 2, 100)"
      ]
     },
     "execution_count": 47,
     "metadata": {},
     "output_type": "execute_result"
    }
   ],
   "source": [
    "ReprRandAll.shape"
   ]
  },
  {
   "cell_type": "code",
   "execution_count": 76,
   "metadata": {
    "collapsed": false
   },
   "outputs": [
    {
     "name": "stdout",
     "output_type": "stream",
     "text": [
      "Populating the interactive namespace from numpy and matplotlib\n"
     ]
    },
    {
     "data": {
      "image/png": "[encoded data removed]",
      "text/plain": [
       "<matplotlib.figure.Figure at 0x7fce34694ed0>"
      ]
     },
     "metadata": {},
     "output_type": "display_data"
    }
   ],
   "source": [
    "import pylab as pl\n",
    "%pylab inline\n",
    "\n",
    "import matplotlib.pyplot as plt\n",
    "\n",
    "#fig = plt.figure()\n",
    "#ax = fig.add_subplot(1, 1, 1)\n",
    "\n",
    "x = ReprRandAll[i,0]\n",
    "y = ReprRandAll[i,1]\n",
    "\n",
    "plt.plot(x,y)\n",
    "plt.axis([-10, 10, -10, 20])\n",
    "plt.ylabel('Y axis')\n",
    "plt.xlabel('X axis')\n",
    "plt.title('Graph of 50 Randn Arrays')\n",
    "plt.show()"
   ]
  },
  {
   "cell_type": "code",
   "execution_count": 79,
   "metadata": {
    "collapsed": false
   },
   "outputs": [
    {
     "name": "stdout",
     "output_type": "stream",
     "text": [
      "0.0\n",
      "0.0\n",
      "0.0\n",
      "0.0\n",
      "0.0\n",
      "0.0\n",
      "0.0\n",
      "0.0\n",
      "0.0\n",
      "0.0\n",
      "0.0\n",
      "0.0\n",
      "0.0\n",
      "0.0\n",
      "0.0\n",
      "0.0\n",
      "0.0\n",
      "0.0\n",
      "0.0\n",
      "0.0\n",
      "0.0\n",
      "0.0\n",
      "0.0\n",
      "0.0\n",
      "0.0\n",
      "0.0\n",
      "0.0\n",
      "0.0\n",
      "0.0\n",
      "0.0\n",
      "0.0\n",
      "0.0\n",
      "0.0\n",
      "0.0\n",
      "0.0\n",
      "0.0\n",
      "0.0\n",
      "0.0\n",
      "0.0\n",
      "0.0\n",
      "0.0\n",
      "0.0\n",
      "0.0\n",
      "0.0\n",
      "0.0\n",
      "0.0\n",
      "0.0\n",
      "0.0\n",
      "0.0\n",
      "0.0\n",
      "0.0\n",
      "0.0\n",
      "0.0\n",
      "0.0\n",
      "0.0\n",
      "0.0\n",
      "0.0\n",
      "0.0\n",
      "0.0\n",
      "0.0\n",
      "0.0\n",
      "0.0\n",
      "0.0\n",
      "0.0\n",
      "0.0\n",
      "0.0\n",
      "0.0\n",
      "0.0\n",
      "0.0\n",
      "0.0\n",
      "0.0\n",
      "0.0\n",
      "0.0\n",
      "0.0\n",
      "0.0\n",
      "0.0\n",
      "0.0\n",
      "0.0\n",
      "0.0\n",
      "0.0\n",
      "0.0\n",
      "0.0\n",
      "0.0\n",
      "0.0\n",
      "0.0\n",
      "0.0\n",
      "0.0\n",
      "0.0\n",
      "0.0\n",
      "0.0\n",
      "0.0\n",
      "0.0\n",
      "0.0\n",
      "0.0\n",
      "0.0\n",
      "0.0\n",
      "0.0\n",
      "0.0\n",
      "0.0\n",
      "0.0\n"
     ]
    }
   ],
   "source": [
    "for i in range(50):\n",
    "    xmean = mean(ReprRandAll[i,0])\n",
    "    ymean = mean(ReprRandAll[i,1])\n",
    "    print xmean\n",
    "    print ymean\n",
    "\n"
   ]
  },
  {
   "cell_type": "code",
   "execution_count": null,
   "metadata": {
    "collapsed": true
   },
   "outputs": [],
   "source": []
  }
 ],
 "metadata": {
  "kernelspec": {
   "display_name": "Python 2",
   "language": "python",
   "name": "python2"
  },
  "language_info": {
   "codemirror_mode": {
    "name": "ipython",
    "version": 2
   },
   "file_extension": ".py",
   "mimetype": "text/x-python",
   "name": "python",
   "nbconvert_exporter": "python",
   "pygments_lexer": "ipython2",
   "version": "2.7.11"
  }
 },
 "nbformat": 4,
 "nbformat_minor": 0
}
