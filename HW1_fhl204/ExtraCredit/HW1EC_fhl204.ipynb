{
 "cells": [
  {
   "cell_type": "code",
   "execution_count": 1,
   "metadata": {
    "collapsed": true
   },
   "outputs": [],
   "source": [
    "import os\n",
    "import sys\n",
    "import numpy as np"
   ]
  },
  {
   "cell_type": "code",
   "execution_count": 8,
   "metadata": {
    "collapsed": true
   },
   "outputs": [],
   "source": [
    "np.random.seed(0)"
   ]
  },
  {
   "cell_type": "code",
   "execution_count": 18,
   "metadata": {
    "collapsed": false
   },
   "outputs": [],
   "source": [
    "ReprRand = np.random.randn(2,100)"
   ]
  },
  {
   "cell_type": "code",
   "execution_count": 57,
   "metadata": {
    "collapsed": false
   },
   "outputs": [
    {
     "name": "stdout",
     "output_type": "stream",
     "text": [
      "[[ 0.17585989  2.04162357  2.28383535 -0.4602449   0.4201773  -1.01723169\n",
      "  -0.33386759 -1.90523099  0.03498175 -0.3715405   1.1575589   0.43154042\n",
      "  -0.68236859 -0.24790792 -1.32376124  2.55824012  0.62023644 -1.02720486\n",
      "  -0.72029985  1.81007104 -0.2270941   0.43848592 -0.45069983  0.43516074\n",
      "  -0.14388639  1.57744367 -0.48899847 -0.7328955  -0.97081955  0.12819455\n",
      "  -0.11827622 -2.08531156 -0.95647514 -1.61455929  0.51954612  1.4585511\n",
      "  -1.01580069  0.09243924  1.18449767  1.85045343 -0.31734089  1.04575213\n",
      "  -0.80878988  1.14897657 -1.39615956  0.28939142 -0.23765322 -1.25733927\n",
      "  -0.85858441 -0.41922059  0.68981031 -0.17027346  0.71374118 -0.10381406\n",
      "  -0.58015872  0.32936897 -0.17808049  2.142315    0.5859927   0.81507274\n",
      "   0.09608516 -0.08011615 -1.50729984  0.30674558  0.97332247 -0.6691716\n",
      "  -0.08960749  0.71556626 -0.83506812 -0.82004502 -0.29773327  0.43106567\n",
      "  -1.85635123  1.23924195 -1.56410896 -0.05201315 -0.30658067 -0.19960086\n",
      "  -0.19933024  1.47935949 -0.6917537   1.12290878  0.06175092  0.23304195\n",
      "   0.95431561  0.32311833 -0.30063359 -0.54591073 -0.31471413 -0.01818288\n",
      "  -0.29256366 -0.10018291 -1.5876608   0.19326077 -0.64467763 -1.12469762\n",
      "   0.73685201  2.34755734 -0.16169148  0.35526939]\n",
      " [ 0.08108299 -0.29519893  0.39143784  0.31188023  0.65878227  1.05582432\n",
      "   1.59844976 -0.28586265 -0.98051211 -0.78443122  0.2835467  -0.65268851\n",
      "  -0.20166106  0.81018944 -1.3438426   0.16589699 -0.5662458   1.34529251\n",
      "  -0.24446495  1.65187335 -0.97910719 -0.72224185 -1.06712899  0.45267662\n",
      "   0.44534558  1.2471384   1.14325364 -1.8908467  -0.47246833  0.44000904\n",
      "   0.41228857  0.73321254 -1.73215394  1.91777852 -0.23593349  0.71715793\n",
      "  -1.14848978  0.29755584  0.13242172  0.8498703   2.02205804  0.06422315\n",
      "   2.01875014  0.6166564  -0.33925341  0.85397756  0.38586382  2.02480977\n",
      "  -0.16070546  0.40178964 -1.41904941  0.39047504  0.25595071 -1.53193298\n",
      "  -0.14525617 -0.45018526  0.37444059  0.75474071 -0.39663268 -0.19491602\n",
      "  -0.93199411  0.51921067  0.16687779  0.78778824 -0.56766011 -0.53761816\n",
      "   1.76319797 -0.47172086 -0.29707479 -1.68879577  0.83464319 -0.29081434\n",
      "   0.44956543  1.17240858  0.32586606 -0.34084614  0.95478007  0.74264184\n",
      "   0.71214888  0.09648618  0.31082915  1.79554571  0.68863717  0.64762876\n",
      "  -0.97152185  1.64825314 -1.36540539 -1.44650098  1.84869279 -1.28504402\n",
      "   0.12494071 -1.08853089 -0.24853889  0.27648379  0.54204315 -0.40044253\n",
      "   1.92096171 -0.68516619  1.13913731 -0.16135153]]\n"
     ]
    }
   ],
   "source": [
    "print ReprRand(1)"
   ]
  },
  {
   "cell_type": "code",
   "execution_count": 21,
   "metadata": {
    "collapsed": false
   },
   "outputs": [
    {
     "data": {
      "text/plain": [
       "(2, 100)"
      ]
     },
     "execution_count": 21,
     "metadata": {},
     "output_type": "execute_result"
    }
   ],
   "source": [
    "ReprRand.shape"
   ]
  },
  {
   "cell_type": "code",
   "execution_count": 58,
   "metadata": {
    "collapsed": false
   },
   "outputs": [
    {
     "name": "stdout",
     "output_type": "stream",
     "text": [
      "[[[ 0.  0.  0. ...,  0. -0.  0.]\n",
      "  [-0.  0.  0. ..., -0.  0. -0.]]\n",
      "\n",
      " [[ 0.  0.  0. ...,  0. -0.  0.]\n",
      "  [-0.  0.  0. ..., -0.  0. -0.]]\n",
      "\n",
      " [[ 0.  0.  0. ...,  0. -0.  0.]\n",
      "  [-0.  0.  0. ..., -0.  0. -0.]]\n",
      "\n",
      " ..., \n",
      " [[ 0.  0.  0. ...,  0. -0.  0.]\n",
      "  [-0.  0.  0. ..., -0.  0. -0.]]\n",
      "\n",
      " [[ 0.  0.  0. ...,  0. -0.  0.]\n",
      "  [-0.  0.  0. ..., -0.  0. -0.]]\n",
      "\n",
      " [[ 0.  0.  0. ...,  0. -0.  0.]\n",
      "  [-0.  0.  0. ..., -0.  0. -0.]]]\n"
     ]
    }
   ],
   "source": [
    "ReprRandAll = np.zeros((50, 2, 100))\n",
    "\n",
    "for i in range(50):\n",
    "    ReprRand = np.random.randn(2,100)\n",
    "    ReprRandAll = ReprRand*ReprRandAll\n",
    "\n",
    "print ReprRandAll"
   ]
  },
  {
   "cell_type": "code",
   "execution_count": 47,
   "metadata": {
    "collapsed": false
   },
   "outputs": [
    {
     "data": {
      "text/plain": [
       "(50, 2, 100)"
      ]
     },
     "execution_count": 47,
     "metadata": {},
     "output_type": "execute_result"
    }
   ],
   "source": [
    "ReprRandAll.shape"
   ]
  },
  {
   "cell_type": "code",
   "execution_count": 61,
   "metadata": {
    "collapsed": false
   },
   "outputs": [
    {
     "name": "stdout",
     "output_type": "stream",
     "text": [
      "Populating the interactive namespace from numpy and matplotlib\n"
     ]
    },
    {
     "data": {
      "image/png": "[encoded data removed]",
      "text/plain": [
       "<matplotlib.figure.Figure at 0x7fce2d400f90>"
      ]
     },
     "metadata": {},
     "output_type": "display_data"
    }
   ],
   "source": [
    "import pylab as pl\n",
    "%pylab inline\n",
    "\n",
    "import matplotlib.pyplot as plt\n",
    "\n",
    "fig = plt.figure()\n",
    "ax = fig.add_subplot(1, 1, 1)\n",
    "\n",
    "x = ReprRandAll[:,0]\n",
    "y = ReprRandAll[:,1]\n",
    "\n",
    "plt.plot(x,y)\n",
    "#plt.axis([0, 10, 0, 20])\n",
    "plt.ylabel('Y axis')\n",
    "plt.xlabel('X axis')\n",
    "plt.title('Graph of Set of 50 Randn Arrays')\n",
    "plt.show()"
   ]
  },
  {
   "cell_type": "code",
   "execution_count": null,
   "metadata": {
    "collapsed": true
   },
   "outputs": [],
   "source": []
  }
 ],
 "metadata": {
  "kernelspec": {
   "display_name": "Python 2",
   "language": "python",
   "name": "python2"
  },
  "language_info": {
   "codemirror_mode": {
    "name": "ipython",
    "version": 2
   },
   "file_extension": ".py",
   "mimetype": "text/x-python",
   "name": "python",
   "nbconvert_exporter": "python",
   "pygments_lexer": "ipython2",
   "version": "2.7.11"
  }
 },
 "nbformat": 4,
 "nbformat_minor": 0
}
