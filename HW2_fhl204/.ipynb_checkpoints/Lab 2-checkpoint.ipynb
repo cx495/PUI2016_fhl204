{
 "cells": [
  {
   "cell_type": "markdown",
   "metadata": {},
   "source": [
    "Replicating lab 2"
   ]
  },
  {
   "cell_type": "code",
   "execution_count": 1,
   "metadata": {
    "collapsed": false
   },
   "outputs": [],
   "source": [
    "from __future__ import print_function\n",
    "import json\n",
    "import urllib2 \n",
    "import os\n",
    "import sys"
   ]
  },
  {
   "cell_type": "code",
   "execution_count": 7,
   "metadata": {
    "collapsed": true
   },
   "outputs": [],
   "source": [
    "os.getenv?"
   ]
  },
  {
   "cell_type": "code",
   "execution_count": 5,
   "metadata": {
    "collapsed": false
   },
   "outputs": [
    {
     "name": "stdout",
     "output_type": "stream",
     "text": [
      "None\n"
     ]
    }
   ],
   "source": [
    "#How do I properly enter the API key as an environment variable?  Which folder should it be in (.bashrc in PUI2016_<nyuid>)?\n",
    "apikey = os.getenv(\"weatherKEY\")\n",
    "print(apikey)"
   ]
  },
  {
   "cell_type": "code",
   "execution_count": 8,
   "metadata": {
    "collapsed": false
   },
   "outputs": [
    {
     "name": "stdout",
     "output_type": "stream",
     "text": [
      "{\"city\":{\"id\":2925533,\"name\":\"Frankfurt am Main\",\"coord\":{\"lon\":8.68333,\"lat\":50.116669},\"country\":\"DE\",\"population\":0},\"cod\":\"200\",\"message\":0.0692,\"cnt\":7,\"list\":[{\"dt\":1474023600,\"temp\":{\"day\":18.24,\"min\":12.61,\"max\":18.24,\"night\":12.61,\"eve\":18.24,\"morn\":18.24},\"pressure\":997.49,\"humidity\":78,\"weather\":[{\"id\":500,\"main\":\"Rain\",\"description\":\"light rain\",\"icon\":\"10n\"}],\"speed\":1.33,\"deg\":214,\"clouds\":20},{\"dt\":1474110000,\"temp\":{\"day\":18.42,\"min\":12.53,\"max\":18.42,\"night\":14.11,\"eve\":14.96,\"morn\":12.53},\"pressure\":997.58,\"humidity\":70,\"weather\":[{\"id\":502,\"main\":\"Rain\",\"description\":\"heavy intensity rain\",\"icon\":\"10d\"}],\"speed\":2.72,\"deg\":300,\"clouds\":92,\"rain\":25.89},{\"dt\":1474196400,\"temp\":{\"day\":16.18,\"min\":11.94,\"max\":16.44,\"night\":11.94,\"eve\":14.85,\"morn\":14.02},\"pressure\":995.38,\"humidity\":90,\"weather\":[{\"id\":501,\"main\":\"Rain\",\"description\":\"moderate rain\",\"icon\":\"10d\"}],\"speed\":4.76,\"deg\":38,\"clouds\":92,\"rain\":5.8},{\"dt\":1474282800,\"temp\":{\"day\":15.1,\"min\":9.76,\"max\":15.1,\"night\":12.72,\"eve\":13.7,\"morn\":9.76},\"pressure\":998.95,\"humidity\":91,\"weather\":[{\"id\":500,\"main\":\"Rain\",\"description\":\"light rain\",\"icon\":\"10d\"}],\"speed\":2.72,\"deg\":343,\"clouds\":92,\"rain\":1.28},{\"dt\":1474369200,\"temp\":{\"day\":17.77,\"min\":7.59,\"max\":17.77,\"night\":10.72,\"eve\":14.82,\"morn\":7.59},\"pressure\":998.01,\"humidity\":0,\"weather\":[{\"id\":500,\"main\":\"Rain\",\"description\":\"light rain\",\"icon\":\"10d\"}],\"speed\":3.21,\"deg\":50,\"clouds\":10},{\"dt\":1474455600,\"temp\":{\"day\":19.34,\"min\":8.43,\"max\":19.34,\"night\":9.35,\"eve\":14.77,\"morn\":8.43},\"pressure\":1000.92,\"humidity\":0,\"weather\":[{\"id\":800,\"main\":\"Clear\",\"description\":\"clear sky\",\"icon\":\"01d\"}],\"speed\":4.24,\"deg\":91,\"clouds\":0},{\"dt\":1474542000,\"temp\":{\"day\":19.18,\"min\":8.26,\"max\":19.18,\"night\":9.27,\"eve\":15.11,\"morn\":8.26},\"pressure\":1000.48,\"humidity\":0,\"weather\":[{\"id\":500,\"main\":\"Rain\",\"description\":\"light rain\",\"icon\":\"10d\"}],\"speed\":3.63,\"deg\":98,\"clouds\":61}]}\n"
     ]
    }
   ],
   "source": [
    "apikey = \"a249625d5e5f67cf0b5f2c9b92aa44\" #xx\n",
    "mode = \"Json\"\n",
    "units = \"metric\"\n",
    "city = sys.argv[1]\n",
    "\n",
    "url = \"http://api.openweathermap.org/data/2.5/forecast/daily?q=%s&mode=%s&units=%s&cnt=7&APPID=%s\"%(city, mode, units, apikey)\n",
    "\n",
    "response = urllib2.urlopen(url)\n",
    "data = response.read().decode(\"utf-8\")\n",
    "json.loads(data)\n",
    "print (data)"
   ]
  },
  {
   "cell_type": "code",
   "execution_count": null,
   "metadata": {
    "collapsed": true
   },
   "outputs": [],
   "source": []
  }
 ],
 "metadata": {
  "kernelspec": {
   "display_name": "PUI2016_Python2",
   "language": "python",
   "name": "pui2016_python2"
  },
  "language_info": {
   "codemirror_mode": {
    "name": "ipython",
    "version": 2
   },
   "file_extension": ".py",
   "mimetype": "text/x-python",
   "name": "python",
   "nbconvert_exporter": "python",
   "pygments_lexer": "ipython2",
   "version": "2.7.12"
  }
 },
 "nbformat": 4,
 "nbformat_minor": 0
}
